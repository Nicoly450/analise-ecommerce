{
 "cells": [
  {
   "cell_type": "markdown",
   "id": "72b8ebaa",
   "metadata": {},
   "source": [
    "# 🛒 Projeto de Análise de Performance de Vendas de um E-commerce\n",
    "\n",
    "Este projeto tem como objetivo analisar os dados de vendas de um e-commerce, utilizando Python (pandas), SQL e Power BI.\n",
    "\n",
    "Serão realizadas análises importantes como:\n",
    "- Porcentagem de pedidos cancelados\n",
    "- Ticket médio por cliente\n",
    "- Receita total por canal\n",
    "\n",
    "Além disso, todo o processo envolve automação, limpeza de dados e visualizações no Power BI, com foco em insights reais que ajudam na tomada de decisão.\n"
   ]
  },
  {
   "cell_type": "code",
   "execution_count": null,
   "id": "e6a6bc9e",
   "metadata": {},
   "outputs": [
    {
     "name": "stdout",
     "output_type": "stream",
     "text": [
      "['Whatsapp' 'Ifood' 'Site' 'Instagram' nan]\n",
      "['Cartão' 'Pix' 'Dinheiro' nan]\n",
      "['Entregue' 'Cancelado' 'Pendente' nan]\n"
     ]
    }
   ],
   "source": [
    "# Limpeza do Terminal\n",
    "from os import system, name\n",
    "system('cls')\n",
    "\n",
    "# 📦 Importando bibliotecas\n",
    "import pandas as pd\n",
    "\n",
    "# 📂 Lendo o arquivo CSV com os dados limpos\n",
    "df = pd.read_csv('../dados2.limpos.limpos.csv' )\n",
    "\n",
    "# 👀 Visualizando os dados\n",
    "df.head()\n",
    "print(df['canal'].unique())\n",
    "print(df['forma_pagamento'].unique())\n",
    "print(df['status'].unique())"
   ]
  },
  {
   "cell_type": "markdown",
   "id": "251fb7df",
   "metadata": {},
   "source": [
    "## 📊 Porcentagem de Pedidos Cancelados\n"
   ]
  },
  {
   "cell_type": "code",
   "execution_count": 13,
   "id": "67b1df4e",
   "metadata": {},
   "outputs": [
    {
     "name": "stdout",
     "output_type": "stream",
     "text": [
      "Porcentagem de pedidos cancelados: 32.33%\n"
     ]
    }
   ],
   "source": [
    "# 🔍 Contando quantos pedidos foram cancelados\n",
    "cancelados = df[df['status'] == 'Cancelado']\n",
    "\n",
    "# 🧮 Calculando a porcentagem de cancelamentos\n",
    "percentual_cancelado = (len(cancelados) / len(df)) * 100\n",
    "\n",
    "# 🖨️ Exibindo o resultado com 2 casas decimais\n",
    "print(f'Porcentagem de pedidos cancelados: {percentual_cancelado:.2f}%')\n",
    "\n",
    "# 🖨️ Salvando o resultado da análise em csv\n",
    "pd.DataFrame([{'percentual_cancelado': round(percentual_cancelado, 2)}]) \\\n",
    "  .to_csv('porcentagem_cancelados.csv', index=False, encoding='utf-8')\n"
   ]
  },
  {
   "cell_type": "markdown",
   "id": "b21a9511",
   "metadata": {},
   "source": [
    "📌 **Conclusão**: Aproximadamente 32,33% dos pedidos foram cancelados, o que pode indicar problemas no processo de pagamento, logística ou insatisfação dos clientes.\n"
   ]
  },
  {
   "cell_type": "markdown",
   "id": "b4cfb00c",
   "metadata": {},
   "source": [
    "## 📊 Ticket Médio por Cliente"
   ]
  },
  {
   "cell_type": "code",
   "execution_count": 15,
   "id": "9b7033e6",
   "metadata": {},
   "outputs": [
    {
     "name": "stdout",
     "output_type": "stream",
     "text": [
      "cliente\n",
      "Ana Souza         48.83\n",
      "Bruno Mello       53.27\n",
      "Carlos Lima       47.58\n",
      "Fernanda Rocha    52.86\n",
      "Luana Martins     45.45\n",
      "Name: valor, dtype: float64\n"
     ]
    }
   ],
   "source": [
    "\n",
    "# Agrupando os dados por cliente e filtrando apenas os pedidos entregues\n",
    "ticket_medio_cliente = df[df['status'] == 'Entregue'].groupby('cliente')['valor'].mean().round(2)\n",
    "\n",
    "# Exibindo os resultados\n",
    "print(ticket_medio_cliente.head())\n",
    "\n",
    "# 🖨️ Salvando o resultado da análise em csv\n",
    "ticket_medio_cliente.to_csv('ticket_medio_cliente.csv', encoding='utf-8')"
   ]
  },
  {
   "cell_type": "markdown",
   "id": "8c2f1339",
   "metadata": {},
   "source": [
    "📌 **Conclusão**: O ticket médio por cliente ficou entre R$45,45 e R$53,27. Clientes como Bruno Mello e Fernanda Rocha estão entre os que mais gastam por pedido.\n"
   ]
  },
  {
   "cell_type": "markdown",
   "id": "d0eda7e1",
   "metadata": {},
   "source": [
    "## 📊 Receita Total por Canal"
   ]
  },
  {
   "cell_type": "code",
   "execution_count": 19,
   "id": "aa3ab079",
   "metadata": {},
   "outputs": [
    {
     "name": "stderr",
     "output_type": "stream",
     "text": [
      "C:\\Users\\Nicol\\AppData\\Local\\Temp\\ipykernel_34184\\3162069984.py:20: UserWarning: Glyph 128202 (\\N{BAR CHART}) missing from font(s) DejaVu Sans.\n",
      "  plt.tight_layout()\n",
      "C:\\Users\\Nicol\\AppData\\Roaming\\Python\\Python313\\site-packages\\IPython\\core\\pylabtools.py:170: UserWarning: Glyph 128202 (\\N{BAR CHART}) missing from font(s) DejaVu Sans.\n",
      "  fig.canvas.print_figure(bytes_io, **kw)\n"
     ]
    },
    {
     "data": {
      "image/png": "[encoded data removed]",
      "text/plain": [
       "<Figure size 900x500 with 1 Axes>"
      ]
     },
     "metadata": {},
     "output_type": "display_data"
    },
    {
     "name": "stdout",
     "output_type": "stream",
     "text": [
      "canal\n",
      "Ifood        1516.25\n",
      "Site         1137.30\n",
      "Instagram     869.96\n",
      "Whatsapp      706.58\n",
      "Name: valor, dtype: float64\n"
     ]
    }
   ],
   "source": [
    "\n",
    "import matplotlib.pyplot as plt\n",
    "\n",
    "# Estilo dark\n",
    "plt.style.use('dark_background')\n",
    "\n",
    "# Agrupandp por canal e somando os valores dos pedidos entregues\n",
    "receita_por_canal = df[df['status'] == 'Entregue'].groupby('canal')['valor'].sum().round(2)\n",
    "\n",
    "# Criando o gráfico\n",
    "plt.figure(figsize=(9,5))\n",
    "receita_por_canal.sort_values(ascending=False).plot(kind='barh', color='#8000FF')  \n",
    "\n",
    "# Títulos e rótulos\n",
    "plt.title('📊 Receita Total por Canal de Venda', fontsize=14, weight='bold')\n",
    "plt.xlabel('Valor em R$', fontsize=12)\n",
    "plt.ylabel('Canal', fontsize=12)\n",
    "\n",
    "# Grid leve e layout ajustado\n",
    "plt.grid(axis='x', linestyle='--', alpha=0.3)\n",
    "plt.tight_layout()\n",
    "plt.show()\n",
    "\n",
    "# 🖨️ Salvando o resultado da análise em csv\n",
    "receita_por_canal.to_csv('receita_total_canal.csv', encoding='utf-8')\n",
    "\n",
    "print(receita_por_canal.sort_values(ascending=False))"
   ]
  },
  {
   "cell_type": "markdown",
   "id": "62cc008a",
   "metadata": {},
   "source": [
    "📌 **Conclusão**: O canal com maior receita foi o iFood (R$1516,25), seguido pelo site (R$1137,30), mostrando que essas plataformas geram mais retorno financeiro.\n"
   ]
  }
 ],
 "metadata": {
  "kernelspec": {
   "display_name": "Python 3",
   "language": "python",
   "name": "python3"
  },
  "language_info": {
   "codemirror_mode": {
    "name": "ipython",
    "version": 3
   },
   "file_extension": ".py",
   "mimetype": "text/x-python",
   "name": "python",
   "nbconvert_exporter": "python",
   "pygments_lexer": "ipython3",
   "version": "3.13.3"
  }
 },
 "nbformat": 4,
 "nbformat_minor": 5
}
